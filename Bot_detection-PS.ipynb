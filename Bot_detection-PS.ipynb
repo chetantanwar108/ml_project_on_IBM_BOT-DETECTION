{
 "cells": [
  {
   "cell_type": "markdown",
   "metadata": {},
   "source": [
    "# BOT DETECTION MODEL"
   ]
  },
  {
   "cell_type": "markdown",
   "metadata": {},
   "source": [
    "### Problem Statement : Build A Model that can detect the Non Human Traffic present in a website!!!"
   ]
  },
  {
   "cell_type": "markdown",
   "metadata": {},
   "source": [
    "# Why do we need to detect Bots ?\n",
    "# No matter how big your website is, you’re almost guaranteed to receive bot traffic at some point. These bots are often up to a range of different things on your site, from indexing web pages to scraping your content. With so many different bots out there, how can you detect bot traffic on your website? And should you be concerned?"
   ]
  },
  {
   "cell_type": "markdown",
   "metadata": {},
   "source": [
    "# Here are 5 reasons that why do need BOT Detection ?"
   ]
  },
  {
   "cell_type": "markdown",
   "metadata": {},
   "source": [
    "\n",
    "1)Bots can steal your content. You know that content you worked so hard to develop? Your carefully crafted blog posts and pages? All that effort could be wasted in a second if you let bots access your site. Bots can scrape your website for data, information and even pricing in just a matter of minutes. Then, it can be used on other sites, redistributed or even sold for profit in other areas of the web.\n",
    "\n",
    "2)Bots can slow down your site. Bots bog down your site and overwhelm it with inauthentic, fraudulent traffic. This results in slower page load times for your actual paying customers, which could affect their level of satisfaction or even deter them from buying or visiting altogether.\n",
    "\n",
    "3)Bots can threaten your website. Malicious bots can hack your website, insert inappropriate links and content, or even crash your site altogether. This can hurt your traffic, your customers and your sales.\n",
    "\n",
    "4)Bot can take up extra time and money. Many bots spend their time posting spam comments to websites and blogs. While this may not seem like a huge issue, it can be quite frustrating. You’ll have to spend hours each month sorting through these comments to separate the human commenters from the fraudulent ones, which takes you and your resources away from actually running your business. If you don’t remove these spam comments, they end up annoying your readers and possibly leading them away from your site.\n",
    "\n",
    "5)Bots can mess up your analytics. Analytics are hugely important to a website owner. They tell you how your site is performing, where traffic is coming from and what you might want to tweak throughout the site. Unfortunately, if you have a significant amount of bots accessing your site, this can throw your analytics into upheaval. You won’t have a clear picture of your site’s performance or your next steps for improvement, and you won’t be able to tell what’s real and what’s fake."
   ]
  },
  {
   "cell_type": "markdown",
   "metadata": {},
   "source": [
    "# The 5-Step Methodology for Spotting Malicious Bot Activity"
   ]
  },
  {
   "cell_type": "markdown",
   "metadata": {},
   "source": [
    "1)Separate bots from people\n",
    "\n",
    "2)Distinguish between browsers and other clients\n",
    "\n",
    "3)Distinguish between bots within browsers\n",
    "\n",
    "4)Analyze the payload\n",
    "\n",
    "5)Determine a target's risk"
   ]
  },
  {
   "cell_type": "code",
   "execution_count": 5,
   "metadata": {},
   "outputs": [],
   "source": [
    "import pandas as pd\n",
    "data=pd.read_csv('ibm_data.csv')"
   ]
  },
  {
   "cell_type": "code",
   "execution_count": 6,
   "metadata": {},
   "outputs": [
    {
     "data": {
      "text/html": [
       "<div>\n",
       "<style scoped>\n",
       "    .dataframe tbody tr th:only-of-type {\n",
       "        vertical-align: middle;\n",
       "    }\n",
       "\n",
       "    .dataframe tbody tr th {\n",
       "        vertical-align: top;\n",
       "    }\n",
       "\n",
       "    .dataframe thead th {\n",
       "        text-align: right;\n",
       "    }\n",
       "</style>\n",
       "<table border=\"1\" class=\"dataframe\">\n",
       "  <thead>\n",
       "    <tr style=\"text-align: right;\">\n",
       "      <th></th>\n",
       "      <th>Unnamed: 0</th>\n",
       "      <th>ctry_name</th>\n",
       "      <th>intgrtd_mngmt_name</th>\n",
       "      <th>intgrtd_operating_team_name</th>\n",
       "      <th>city</th>\n",
       "      <th>st</th>\n",
       "      <th>sec_lvl_domn</th>\n",
       "      <th>device_type</th>\n",
       "      <th>operating_sys</th>\n",
       "      <th>ip_addr</th>\n",
       "      <th>user_agent</th>\n",
       "      <th>VISIT</th>\n",
       "      <th>ENGD_VISIT</th>\n",
       "      <th>VIEWS</th>\n",
       "      <th>page_url</th>\n",
       "      <th>wk</th>\n",
       "      <th>mth</th>\n",
       "      <th>yr</th>\n",
       "      <th>page_vw_ts</th>\n",
       "    </tr>\n",
       "  </thead>\n",
       "  <tbody>\n",
       "    <tr>\n",
       "      <th>0</th>\n",
       "      <td>0</td>\n",
       "      <td>United States</td>\n",
       "      <td>United States</td>\n",
       "      <td>North America</td>\n",
       "      <td>SLIDELL</td>\n",
       "      <td>LOUISIANA</td>\n",
       "      <td>CHARTER.COM</td>\n",
       "      <td>MOBILEPHONE</td>\n",
       "      <td>IOS_12.1.4</td>\n",
       "      <td>287e8e9aeedb50e963906f10cca7ca26ae830154e69220...</td>\n",
       "      <td>MOZILLA/5.0 (IPHONE; CPU IPHONE OS 12_1_4 LIKE...</td>\n",
       "      <td>1</td>\n",
       "      <td>0</td>\n",
       "      <td>1</td>\n",
       "      <td>www.ibm.com/watson/campaign</td>\n",
       "      <td>11</td>\n",
       "      <td>3</td>\n",
       "      <td>2019</td>\n",
       "      <td>2019-06-04 05:05:18.023100</td>\n",
       "    </tr>\n",
       "    <tr>\n",
       "      <th>1</th>\n",
       "      <td>1</td>\n",
       "      <td>Japan</td>\n",
       "      <td>Japan</td>\n",
       "      <td>Japan</td>\n",
       "      <td>TOKYO</td>\n",
       "      <td>TOKYO</td>\n",
       "      <td>MOPERA.NET</td>\n",
       "      <td>TABLET</td>\n",
       "      <td>ANDROID_6.0</td>\n",
       "      <td>d7746df5cc2de7f79584d57c2c082b9acc7697602021a1...</td>\n",
       "      <td>MOZILLA/5.0 (LINUX; ANDROID 6.0; D-01J BUILD/H...</td>\n",
       "      <td>1</td>\n",
       "      <td>0</td>\n",
       "      <td>1</td>\n",
       "      <td>www.ibm.com/privacy/us/en</td>\n",
       "      <td>11</td>\n",
       "      <td>3</td>\n",
       "      <td>2019</td>\n",
       "      <td>2019-06-04 05:07:11.014300</td>\n",
       "    </tr>\n",
       "  </tbody>\n",
       "</table>\n",
       "</div>"
      ],
      "text/plain": [
       "   Unnamed: 0      ctry_name intgrtd_mngmt_name intgrtd_operating_team_name  \\\n",
       "0           0  United States      United States               North America   \n",
       "1           1          Japan              Japan                       Japan   \n",
       "\n",
       "      city         st sec_lvl_domn  device_type operating_sys  \\\n",
       "0  SLIDELL  LOUISIANA  CHARTER.COM  MOBILEPHONE    IOS_12.1.4   \n",
       "1    TOKYO      TOKYO   MOPERA.NET       TABLET   ANDROID_6.0   \n",
       "\n",
       "                                             ip_addr  \\\n",
       "0  287e8e9aeedb50e963906f10cca7ca26ae830154e69220...   \n",
       "1  d7746df5cc2de7f79584d57c2c082b9acc7697602021a1...   \n",
       "\n",
       "                                          user_agent  VISIT  ENGD_VISIT  \\\n",
       "0  MOZILLA/5.0 (IPHONE; CPU IPHONE OS 12_1_4 LIKE...      1           0   \n",
       "1  MOZILLA/5.0 (LINUX; ANDROID 6.0; D-01J BUILD/H...      1           0   \n",
       "\n",
       "   VIEWS                     page_url  wk  mth    yr  \\\n",
       "0      1  www.ibm.com/watson/campaign  11    3  2019   \n",
       "1      1    www.ibm.com/privacy/us/en  11    3  2019   \n",
       "\n",
       "                   page_vw_ts  \n",
       "0  2019-06-04 05:05:18.023100  \n",
       "1  2019-06-04 05:07:11.014300  "
      ]
     },
     "execution_count": 6,
     "metadata": {},
     "output_type": "execute_result"
    }
   ],
   "source": [
    "data.head(2)"
   ]
  },
  {
   "cell_type": "code",
   "execution_count": 4,
   "metadata": {},
   "outputs": [
    {
     "data": {
      "text/plain": [
       "(1048573, 19)"
      ]
     },
     "execution_count": 4,
     "metadata": {},
     "output_type": "execute_result"
    }
   ],
   "source": [
    "data.shape"
   ]
  },
  {
   "cell_type": "code",
   "execution_count": null,
   "metadata": {},
   "outputs": [],
   "source": []
  }
 ],
 "metadata": {
  "hide_input": false,
  "kernelspec": {
   "display_name": "Python 3",
   "language": "python",
   "name": "python3"
  },
  "language_info": {
   "codemirror_mode": {
    "name": "ipython",
    "version": 3
   },
   "file_extension": ".py",
   "mimetype": "text/x-python",
   "name": "python",
   "nbconvert_exporter": "python",
   "pygments_lexer": "ipython3",
   "version": "3.7.4"
  }
 },
 "nbformat": 4,
 "nbformat_minor": 2
}
